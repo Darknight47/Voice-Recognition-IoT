{
 "cells": [
  {
   "cell_type": "markdown",
   "metadata": {},
   "source": [
    "Importing necessary packages!"
   ]
  },
  {
   "cell_type": "code",
   "execution_count": 2,
   "metadata": {},
   "outputs": [],
   "source": [
    "import spacy\n",
    "from spacy.lang.en import English\n",
    "import json"
   ]
  },
  {
   "cell_type": "markdown",
   "metadata": {},
   "source": [
    "A function for loading the data!"
   ]
  },
  {
   "cell_type": "code",
   "execution_count": 3,
   "metadata": {},
   "outputs": [],
   "source": [
    "def load_data(file):\n",
    "    with open(file, \"r\", encoding=\"utf-8\") as f:\n",
    "        data = json.load(f)\n",
    "    return (data)"
   ]
  },
  {
   "cell_type": "markdown",
   "metadata": {},
   "source": [
    "Creating object of each JSON dataset!"
   ]
  },
  {
   "cell_type": "code",
   "execution_count": 4,
   "metadata": {},
   "outputs": [],
   "source": [
    "phrasal_verbs = load_data(\"../CustomNER_NLP_Model/data/phrasal_verbs.json\")\n",
    "devices = load_data(\"../CustomNER_NLP_Model/data/devices.json\")\n",
    "places = load_data(\"../CustomNER_NLP_Model/data/places.json\")"
   ]
  },
  {
   "cell_type": "markdown",
   "metadata": {},
   "source": [
    "A method for giving label to each single item in the JSON datasets.  \n",
    "It loops through the whole dataset and gives each word a specific label, creates a dictionary of each word.    \n",
    "It returns a list of word-dictionaries."
   ]
  },
  {
   "cell_type": "code",
   "execution_count": 5,
   "metadata": {},
   "outputs": [],
   "source": [
    "def create_training_data(file, type):\n",
    "    patterns = []\n",
    "    for item in file:\n",
    "        pattern = { #A dictionary, contains a word and its label.\n",
    "            \"label\": type,\n",
    "            \"pattern\": item\n",
    "        }\n",
    "        patterns.append(pattern)\n",
    "    return patterns"
   ]
  },
  {
   "cell_type": "markdown",
   "metadata": {},
   "source": [
    "Creating patterns for each single object, phrasal_verbs, devices and places."
   ]
  },
  {
   "cell_type": "code",
   "execution_count": 6,
   "metadata": {},
   "outputs": [],
   "source": [
    "phrasal_verbs_patterns = create_training_data(phrasal_verbs, \"VERB\")\n",
    "devices_patterns = create_training_data(devices, \"DEVICE\")\n",
    "places_patterns = create_training_data(places, \"PLACE\")"
   ]
  },
  {
   "cell_type": "code",
   "execution_count": 7,
   "metadata": {},
   "outputs": [
    {
     "name": "stdout",
     "output_type": "stream",
     "text": [
      "{'label': 'VERB', 'pattern': 'ask somebody out'}\n",
      "{'label': 'DEVICE', 'pattern': 'light'}\n",
      "{'label': 'PLACE', 'pattern': 'kitchen'}\n"
     ]
    }
   ],
   "source": [
    "#prints out the first element (a dictionary) in the list.\n",
    "print(phrasal_verbs_patterns[0]) \n",
    "print(devices_patterns[0])\n",
    "print(places_patterns[0])"
   ]
  },
  {
   "cell_type": "code",
   "execution_count": 8,
   "metadata": {},
   "outputs": [],
   "source": [
    "#Adding all different pattern objects into a single array called patterns.\n",
    "patterns = [phrasal_verbs_patterns, devices_patterns, places_patterns]"
   ]
  },
  {
   "cell_type": "markdown",
   "metadata": {},
   "source": [
    "We have some specific entities that we want our model recognize and each of these entities  \n",
    "has a pattern that we defined earlier.  \n",
    "Creating now a function for generating rules for **NER** in **NLP** using the **spaCy** library.  "
   ]
  },
  {
   "cell_type": "code",
   "execution_count": 9,
   "metadata": {},
   "outputs": [],
   "source": [
    "def generate_rules(patterns):\n",
    "    nlp = English() #Creating a new English NLP object.\n",
    "    ruler = nlp.add_pipe(\"entity_ruler\") #Adds an EntityRuler to the NLP pipeline.\n",
    "    for pattern in patterns:\n",
    "        ruler.add_patterns(pattern)\n",
    "    nlp.to_disk(\"voicecommander_ner\")"
   ]
  },
  {
   "cell_type": "code",
   "execution_count": 10,
   "metadata": {},
   "outputs": [],
   "source": [
    "generate_rules(patterns=patterns)"
   ]
  }
 ],
 "metadata": {
  "kernelspec": {
   "display_name": "Python 3",
   "language": "python",
   "name": "python3"
  },
  "language_info": {
   "codemirror_mode": {
    "name": "ipython",
    "version": 3
   },
   "file_extension": ".py",
   "mimetype": "text/x-python",
   "name": "python",
   "nbconvert_exporter": "python",
   "pygments_lexer": "ipython3",
   "version": "3.10.11"
  }
 },
 "nbformat": 4,
 "nbformat_minor": 2
}

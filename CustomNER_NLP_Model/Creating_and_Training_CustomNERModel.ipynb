{
 "cells": [
  {
   "cell_type": "markdown",
   "metadata": {},
   "source": [
    "Importing necessary packages!"
   ]
  },
  {
   "cell_type": "code",
   "execution_count": 19,
   "metadata": {},
   "outputs": [],
   "source": [
    "import spacy\n",
    "import json\n",
    "import random"
   ]
  },
  {
   "cell_type": "markdown",
   "metadata": {},
   "source": [
    "A function for loading the data from JSON files!"
   ]
  },
  {
   "cell_type": "code",
   "execution_count": 20,
   "metadata": {},
   "outputs": [],
   "source": [
    "def load_data(file):\n",
    "    with open(file, \"r\", encoding=\"utf-8\") as f:\n",
    "        data = json.load(f)\n",
    "    return (data)"
   ]
  },
  {
   "cell_type": "markdown",
   "metadata": {},
   "source": [
    "A function for exporting to a JSON file!"
   ]
  },
  {
   "cell_type": "code",
   "execution_count": 21,
   "metadata": {},
   "outputs": [],
   "source": [
    "def save_data(file, data):\n",
    "    with open (file, \"w\", encoding=\"utf-8\") as f:\n",
    "        json.dump(data, f, indent=4)"
   ]
  },
  {
   "cell_type": "markdown",
   "metadata": {},
   "source": [
    "A function for **training** our custom NER NLP model!\n"
   ]
  },
  {
   "cell_type": "code",
   "execution_count": 23,
   "metadata": {},
   "outputs": [],
   "source": [
    "from spacy.training.example import Example\n",
    "def train_ner_nlp_model(data, iterations):\n",
    "    TRAIN_DATA = data\n",
    "    nlp = spacy.blank(\"en\") #A new blank ENGLISH NLP object.\n",
    "    #Checking if a NER component already exists in the pipeline.\n",
    "    if(\"ner\" not in nlp.pipe_names): \n",
    "        #Add new NER pipe or else get the existing ner pipe.\n",
    "        ner = nlp.add_pipe(\"ner\")\n",
    "    else:\n",
    "        ner = nlp.get_pipe(\"ner\")\n",
    "    \n",
    "    for _, annotations in TRAIN_DATA:\n",
    "        for ent in annotations.get(\"entities\"):\n",
    "            ner.add_label(ent[2])\n",
    "\n",
    "    #Creating a list of other pipes, except the NER pipe.\n",
    "    other_pipes = [pipe for pipe in nlp.pipe_names if pipe != \"ner\"]\n",
    "    #For training our specific pipe, we need to disable other pipes.\n",
    "    with nlp.select_pipes(disable=other_pipes):\n",
    "        optimizer = nlp.initialize()\n",
    "        for itn in range(iterations):\n",
    "            print(\"Starting iteration \" + str(itn))\n",
    "            random.shuffle(TRAIN_DATA)\n",
    "            losses = {}\n",
    "            for text, annotations in TRAIN_DATA:\n",
    "                example = Example.from_dict(nlp.make_doc(text), annotations)\n",
    "                nlp.update(\n",
    "                    [example],\n",
    "                    sgd=optimizer,\n",
    "                    losses=losses\n",
    "                )\n",
    "            print (losses)\n",
    "        return (nlp)"
   ]
  },
  {
   "cell_type": "markdown",
   "metadata": {},
   "source": [
    "Loading up our **training_data** to TRAIN_DATA variable!  \n",
    "Starting then **training** our custom NER NLP model with our training_data!  \n",
    "**Exporting** our trained model!"
   ]
  },
  {
   "cell_type": "code",
   "execution_count": 26,
   "metadata": {},
   "outputs": [
    {
     "name": "stdout",
     "output_type": "stream",
     "text": [
      "Starting iteration 0\n",
      "{'ner': 1215.7533855080924}\n",
      "Starting iteration 1\n",
      "{'ner': 276.29608007022057}\n",
      "Starting iteration 2\n",
      "{'ner': 118.88118444559254}\n",
      "Starting iteration 3\n",
      "{'ner': 60.66880052279526}\n",
      "Starting iteration 4\n",
      "{'ner': 42.097868391824356}\n",
      "Starting iteration 5\n",
      "{'ner': 21.706837480532275}\n",
      "Starting iteration 6\n",
      "{'ner': 16.53282063488413}\n",
      "Starting iteration 7\n",
      "{'ner': 12.133412200681326}\n",
      "Starting iteration 8\n",
      "{'ner': 5.591667551615153}\n",
      "Starting iteration 9\n",
      "{'ner': 5.506782916645082}\n",
      "Starting iteration 10\n",
      "{'ner': 1.497115773098788}\n",
      "Starting iteration 11\n",
      "{'ner': 0.21620299463258208}\n",
      "Starting iteration 12\n",
      "{'ner': 0.3398483090306731}\n",
      "Starting iteration 13\n",
      "{'ner': 0.00018144224139068847}\n",
      "Starting iteration 14\n",
      "{'ner': 3.315621176195974e-07}\n",
      "Starting iteration 15\n",
      "{'ner': 1.8358057238752712e-07}\n",
      "Starting iteration 16\n",
      "{'ner': 2.257231133676981e-05}\n",
      "Starting iteration 17\n",
      "{'ner': 1.5611147595848527e-05}\n",
      "Starting iteration 18\n",
      "{'ner': 4.751662259699018e-06}\n",
      "Starting iteration 19\n",
      "{'ner': 2.4358796195047475e-06}\n",
      "Starting iteration 20\n",
      "{'ner': 4.137061460365702e-08}\n",
      "Starting iteration 21\n",
      "{'ner': 3.1926574017811714e-07}\n",
      "Starting iteration 22\n",
      "{'ner': 3.6978785981700966e-08}\n",
      "Starting iteration 23\n",
      "{'ner': 4.006201303517198e-08}\n",
      "Starting iteration 24\n",
      "{'ner': 6.364493489446383e-09}\n",
      "Starting iteration 25\n",
      "{'ner': 4.839901708934233e-07}\n",
      "Starting iteration 26\n",
      "{'ner': 2.7440396918128274e-08}\n",
      "Starting iteration 27\n",
      "{'ner': 2.43161938509449e-08}\n",
      "Starting iteration 28\n",
      "{'ner': 5.024821523015155e-06}\n",
      "Starting iteration 29\n",
      "{'ner': 3.174642230370289e-08}\n"
     ]
    }
   ],
   "source": [
    "TRAIN_DATA = load_data(\"../CustomNER_NLP_Model/data/voicecommander_training_data.json\")\n",
    "nlp = train_ner_nlp_model(TRAIN_DATA, 30) #30 iterations for training."
   ]
  },
  {
   "cell_type": "markdown",
   "metadata": {},
   "source": [
    "**Exporting** our custom NER NLP model!"
   ]
  },
  {
   "cell_type": "code",
   "execution_count": 27,
   "metadata": {},
   "outputs": [],
   "source": [
    "nlp.to_disk(\"voicecommander_custom_ner_nlp_model\")"
   ]
  },
  {
   "cell_type": "markdown",
   "metadata": {},
   "source": [
    "It’s time to test our custom NER NLP model to see how well it recognizes  \n",
    "our desired entities in **unseen data** (i.e., how well it generalizes)."
   ]
  },
  {
   "cell_type": "code",
   "execution_count": null,
   "metadata": {},
   "outputs": [],
   "source": [
    "unseen_data_text = \"\"\"\n",
    "In the heart of the bustling campus, the library, often referred to as the intellectual hub, stood proudly. \n",
    "As the sun began to set, the duty of illuminating the vast expanse fell upon the lone lamp perched on \n",
    "the librarian's desk. The computer, a source of infinite knowledge, hummed quietly in the corner, \n",
    "waiting to be awakened. Students would often gather in the aula to turn on the projector and the light for presentations, \n",
    "with the remote always seeming to be missing just when it was needed most. In the adjacent gymnasium, \n",
    "the coach would routinely turn off the loudspeaker once the game had ended. Meanwhile, the science lab \n",
    "was a domain of exploration, where students would put on their goggles and gloves, ready to dive into \n",
    "the world of experiments. \n",
    "\"\"\""
   ]
  },
  {
   "cell_type": "markdown",
   "metadata": {},
   "source": [
    "Giving our custom NER NLP model the unseen_data_text!"
   ]
  },
  {
   "cell_type": "code",
   "execution_count": null,
   "metadata": {},
   "outputs": [],
   "source": []
  }
 ],
 "metadata": {
  "kernelspec": {
   "display_name": "Python 3",
   "language": "python",
   "name": "python3"
  },
  "language_info": {
   "codemirror_mode": {
    "name": "ipython",
    "version": 3
   },
   "file_extension": ".py",
   "mimetype": "text/x-python",
   "name": "python",
   "nbconvert_exporter": "python",
   "pygments_lexer": "ipython3",
   "version": "3.10.11"
  }
 },
 "nbformat": 4,
 "nbformat_minor": 2
}
